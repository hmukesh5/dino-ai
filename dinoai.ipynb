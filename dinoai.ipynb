{
  "nbformat": 4,
  "nbformat_minor": 0,
  "metadata": {
    "colab": {
      "provenance": [],
      "collapsed_sections": [
        "ix7n8Nk_j6rv",
        "IHuDwOKAYBBQ",
        "iKWGoF4vY4Yu"
      ],
      "authorship_tag": "ABX9TyM9ZqoTy4SfQNHF3IwIXArd",
      "include_colab_link": true
    },
    "kernelspec": {
      "name": "python3",
      "display_name": "Python 3"
    },
    "language_info": {
      "name": "python"
    }
  },
  "cells": [
    {
      "cell_type": "markdown",
      "metadata": {
        "id": "view-in-github",
        "colab_type": "text"
      },
      "source": [
        "<a href=\"https://colab.research.google.com/github/hmukesh5/dino-ai/blob/main/dinoai.ipynb\" target=\"_parent\"><img src=\"https://colab.research.google.com/assets/colab-badge.svg\" alt=\"Open In Colab\"/></a>"
      ]
    },
    {
      "cell_type": "markdown",
      "source": [
        "# **Hemanth's Chrome-Dino AI**\n",
        "Welcome to my implementation of an AI to play the Chrome Dino game! I'm planning on training a Deep Q-Network Agent on the official chrome://dino game by taking screenshots. Hopefully this creates a model that can achieve crazy high scores! Similar projects are out there, but none really seem to use the official dino game or aren't trained very well.\n",
        "\n",
        "I'm using this project mainly as a way to get experience with Machine Learning and Google Colab / Jupyter Notebook.\n",
        "\n",
        "Inspired by [this interesting YouTube video](https://www.youtube.com/watch?v=DcYLT37ImBY). Concepts were also heavily drawn from [this one](https://www.youtube.com/watch?v=vahwuupy81A).\n",
        "\n",
        "**This project is licensed under the GNU GPL 3.0 license. Please cite this repo as the source when copying/modifying/publishing this code.**"
      ],
      "metadata": {
        "id": "g_AroQo6X5ZG"
      }
    },
    {
      "cell_type": "markdown",
      "source": [
        "## **Development Terminal**\n"
      ],
      "metadata": {
        "id": "ix7n8Nk_j6rv"
      }
    },
    {
      "cell_type": "code",
      "source": [],
      "metadata": {
        "id": "VvUzF_F4j9_X"
      },
      "execution_count": null,
      "outputs": []
    },
    {
      "cell_type": "markdown",
      "source": [
        "## **OS Check**"
      ],
      "metadata": {
        "id": "IHuDwOKAYBBQ"
      }
    },
    {
      "cell_type": "markdown",
      "source": [
        "Below is the current version of the runtime we are using. This is useful for I want to transition to another server, and also to ensure that PyVirtualDisplay (Linux only library) will work."
      ],
      "metadata": {
        "id": "0L-gv2EbmLMa"
      }
    },
    {
      "cell_type": "code",
      "source": [
        "!cat /etc/os-release"
      ],
      "metadata": {
        "colab": {
          "base_uri": "https://localhost:8080/"
        },
        "id": "ZpLc-pmgXpvU",
        "outputId": "acd3009e-f09c-4291-db6e-8f71fc56b2d3"
      },
      "execution_count": null,
      "outputs": [
        {
          "output_type": "stream",
          "name": "stdout",
          "text": [
            "PRETTY_NAME=\"Ubuntu 22.04.3 LTS\"\n",
            "NAME=\"Ubuntu\"\n",
            "VERSION_ID=\"22.04\"\n",
            "VERSION=\"22.04.3 LTS (Jammy Jellyfish)\"\n",
            "VERSION_CODENAME=jammy\n",
            "ID=ubuntu\n",
            "ID_LIKE=debian\n",
            "HOME_URL=\"https://www.ubuntu.com/\"\n",
            "SUPPORT_URL=\"https://help.ubuntu.com/\"\n",
            "BUG_REPORT_URL=\"https://bugs.launchpad.net/ubuntu/\"\n",
            "PRIVACY_POLICY_URL=\"https://www.ubuntu.com/legal/terms-and-policies/privacy-policy\"\n",
            "UBUNTU_CODENAME=jammy\n"
          ]
        }
      ]
    },
    {
      "cell_type": "markdown",
      "source": [
        "## **Dependencies and Downloads**\n",
        "First, I'm going to install some dependencies. A lot of these are already pre-installed in colab, so if I take this code somewhere else, I might have to add more to this section."
      ],
      "metadata": {
        "id": "N9dIwmlcYWBX"
      }
    },
    {
      "cell_type": "code",
      "execution_count": 1,
      "metadata": {
        "colab": {
          "base_uri": "https://localhost:8080/"
        },
        "id": "xJNpnKH6Xlbf",
        "outputId": "69e95e71-f445-4019-9b3f-d07aac7d2b1c",
        "collapsed": true
      },
      "outputs": [
        {
          "output_type": "stream",
          "name": "stdout",
          "text": [
            "Collecting selenium\n",
            "  Downloading selenium-4.22.0-py3-none-any.whl (9.4 MB)\n",
            "\u001b[2K     \u001b[90m━━━━━━━━━━━━━━━━━━━━━━━━━━━━━━━━━━━━━━━━\u001b[0m \u001b[32m9.4/9.4 MB\u001b[0m \u001b[31m18.5 MB/s\u001b[0m eta \u001b[36m0:00:00\u001b[0m\n",
            "\u001b[?25hCollecting pyvirtualdisplay\n",
            "  Downloading PyVirtualDisplay-3.0-py3-none-any.whl (15 kB)\n",
            "Collecting gymnasium\n",
            "  Downloading gymnasium-0.29.1-py3-none-any.whl (953 kB)\n",
            "\u001b[2K     \u001b[90m━━━━━━━━━━━━━━━━━━━━━━━━━━━━━━━━━━━━━━━━\u001b[0m \u001b[32m953.9/953.9 kB\u001b[0m \u001b[31m36.2 MB/s\u001b[0m eta \u001b[36m0:00:00\u001b[0m\n",
            "\u001b[?25hRequirement already satisfied: scikit-image in /usr/local/lib/python3.10/dist-packages (0.19.3)\n",
            "Collecting stable-baselines3\n",
            "  Downloading stable_baselines3-2.3.2-py3-none-any.whl (182 kB)\n",
            "\u001b[2K     \u001b[90m━━━━━━━━━━━━━━━━━━━━━━━━━━━━━━━━━━━━━━━━\u001b[0m \u001b[32m182.3/182.3 kB\u001b[0m \u001b[31m12.1 MB/s\u001b[0m eta \u001b[36m0:00:00\u001b[0m\n",
            "\u001b[?25hRequirement already satisfied: urllib3[socks]<3,>=1.26 in /usr/local/lib/python3.10/dist-packages (from selenium) (2.0.7)\n",
            "Collecting trio~=0.17 (from selenium)\n",
            "  Downloading trio-0.25.1-py3-none-any.whl (467 kB)\n",
            "\u001b[2K     \u001b[90m━━━━━━━━━━━━━━━━━━━━━━━━━━━━━━━━━━━━━━━━\u001b[0m \u001b[32m467.7/467.7 kB\u001b[0m \u001b[31m25.1 MB/s\u001b[0m eta \u001b[36m0:00:00\u001b[0m\n",
            "\u001b[?25hCollecting trio-websocket~=0.9 (from selenium)\n",
            "  Downloading trio_websocket-0.11.1-py3-none-any.whl (17 kB)\n",
            "Requirement already satisfied: certifi>=2021.10.8 in /usr/local/lib/python3.10/dist-packages (from selenium) (2024.6.2)\n",
            "Requirement already satisfied: typing_extensions>=4.9.0 in /usr/local/lib/python3.10/dist-packages (from selenium) (4.12.2)\n",
            "Requirement already satisfied: websocket-client>=1.8.0 in /usr/local/lib/python3.10/dist-packages (from selenium) (1.8.0)\n",
            "Requirement already satisfied: numpy>=1.21.0 in /usr/local/lib/python3.10/dist-packages (from gymnasium) (1.25.2)\n",
            "Requirement already satisfied: cloudpickle>=1.2.0 in /usr/local/lib/python3.10/dist-packages (from gymnasium) (2.2.1)\n",
            "Collecting farama-notifications>=0.0.1 (from gymnasium)\n",
            "  Downloading Farama_Notifications-0.0.4-py3-none-any.whl (2.5 kB)\n",
            "Requirement already satisfied: scipy>=1.4.1 in /usr/local/lib/python3.10/dist-packages (from scikit-image) (1.11.4)\n",
            "Requirement already satisfied: networkx>=2.2 in /usr/local/lib/python3.10/dist-packages (from scikit-image) (3.3)\n",
            "Requirement already satisfied: pillow!=7.1.0,!=7.1.1,!=8.3.0,>=6.1.0 in /usr/local/lib/python3.10/dist-packages (from scikit-image) (9.4.0)\n",
            "Requirement already satisfied: imageio>=2.4.1 in /usr/local/lib/python3.10/dist-packages (from scikit-image) (2.31.6)\n",
            "Requirement already satisfied: tifffile>=2019.7.26 in /usr/local/lib/python3.10/dist-packages (from scikit-image) (2024.6.18)\n",
            "Requirement already satisfied: PyWavelets>=1.1.1 in /usr/local/lib/python3.10/dist-packages (from scikit-image) (1.6.0)\n",
            "Requirement already satisfied: packaging>=20.0 in /usr/local/lib/python3.10/dist-packages (from scikit-image) (24.1)\n",
            "Requirement already satisfied: torch>=1.13 in /usr/local/lib/python3.10/dist-packages (from stable-baselines3) (2.3.0+cu121)\n",
            "Requirement already satisfied: pandas in /usr/local/lib/python3.10/dist-packages (from stable-baselines3) (2.0.3)\n",
            "Requirement already satisfied: matplotlib in /usr/local/lib/python3.10/dist-packages (from stable-baselines3) (3.7.1)\n",
            "Requirement already satisfied: filelock in /usr/local/lib/python3.10/dist-packages (from torch>=1.13->stable-baselines3) (3.15.4)\n",
            "Requirement already satisfied: sympy in /usr/local/lib/python3.10/dist-packages (from torch>=1.13->stable-baselines3) (1.12.1)\n",
            "Requirement already satisfied: jinja2 in /usr/local/lib/python3.10/dist-packages (from torch>=1.13->stable-baselines3) (3.1.4)\n",
            "Requirement already satisfied: fsspec in /usr/local/lib/python3.10/dist-packages (from torch>=1.13->stable-baselines3) (2023.6.0)\n",
            "Collecting nvidia-cuda-nvrtc-cu12==12.1.105 (from torch>=1.13->stable-baselines3)\n",
            "  Using cached nvidia_cuda_nvrtc_cu12-12.1.105-py3-none-manylinux1_x86_64.whl (23.7 MB)\n",
            "Collecting nvidia-cuda-runtime-cu12==12.1.105 (from torch>=1.13->stable-baselines3)\n",
            "  Using cached nvidia_cuda_runtime_cu12-12.1.105-py3-none-manylinux1_x86_64.whl (823 kB)\n",
            "Collecting nvidia-cuda-cupti-cu12==12.1.105 (from torch>=1.13->stable-baselines3)\n",
            "  Using cached nvidia_cuda_cupti_cu12-12.1.105-py3-none-manylinux1_x86_64.whl (14.1 MB)\n",
            "Collecting nvidia-cudnn-cu12==8.9.2.26 (from torch>=1.13->stable-baselines3)\n",
            "  Using cached nvidia_cudnn_cu12-8.9.2.26-py3-none-manylinux1_x86_64.whl (731.7 MB)\n",
            "Collecting nvidia-cublas-cu12==12.1.3.1 (from torch>=1.13->stable-baselines3)\n",
            "  Using cached nvidia_cublas_cu12-12.1.3.1-py3-none-manylinux1_x86_64.whl (410.6 MB)\n",
            "Collecting nvidia-cufft-cu12==11.0.2.54 (from torch>=1.13->stable-baselines3)\n",
            "  Using cached nvidia_cufft_cu12-11.0.2.54-py3-none-manylinux1_x86_64.whl (121.6 MB)\n",
            "Collecting nvidia-curand-cu12==10.3.2.106 (from torch>=1.13->stable-baselines3)\n",
            "  Using cached nvidia_curand_cu12-10.3.2.106-py3-none-manylinux1_x86_64.whl (56.5 MB)\n",
            "Collecting nvidia-cusolver-cu12==11.4.5.107 (from torch>=1.13->stable-baselines3)\n",
            "  Using cached nvidia_cusolver_cu12-11.4.5.107-py3-none-manylinux1_x86_64.whl (124.2 MB)\n",
            "Collecting nvidia-cusparse-cu12==12.1.0.106 (from torch>=1.13->stable-baselines3)\n",
            "  Using cached nvidia_cusparse_cu12-12.1.0.106-py3-none-manylinux1_x86_64.whl (196.0 MB)\n",
            "Collecting nvidia-nccl-cu12==2.20.5 (from torch>=1.13->stable-baselines3)\n",
            "  Using cached nvidia_nccl_cu12-2.20.5-py3-none-manylinux2014_x86_64.whl (176.2 MB)\n",
            "Collecting nvidia-nvtx-cu12==12.1.105 (from torch>=1.13->stable-baselines3)\n",
            "  Using cached nvidia_nvtx_cu12-12.1.105-py3-none-manylinux1_x86_64.whl (99 kB)\n",
            "Requirement already satisfied: triton==2.3.0 in /usr/local/lib/python3.10/dist-packages (from torch>=1.13->stable-baselines3) (2.3.0)\n",
            "Collecting nvidia-nvjitlink-cu12 (from nvidia-cusolver-cu12==11.4.5.107->torch>=1.13->stable-baselines3)\n",
            "  Downloading nvidia_nvjitlink_cu12-12.5.82-py3-none-manylinux2014_x86_64.whl (21.3 MB)\n",
            "\u001b[2K     \u001b[90m━━━━━━━━━━━━━━━━━━━━━━━━━━━━━━━━━━━━━━━━\u001b[0m \u001b[32m21.3/21.3 MB\u001b[0m \u001b[31m34.3 MB/s\u001b[0m eta \u001b[36m0:00:00\u001b[0m\n",
            "\u001b[?25hRequirement already satisfied: attrs>=23.2.0 in /usr/local/lib/python3.10/dist-packages (from trio~=0.17->selenium) (23.2.0)\n",
            "Requirement already satisfied: sortedcontainers in /usr/local/lib/python3.10/dist-packages (from trio~=0.17->selenium) (2.4.0)\n",
            "Requirement already satisfied: idna in /usr/local/lib/python3.10/dist-packages (from trio~=0.17->selenium) (3.7)\n",
            "Collecting outcome (from trio~=0.17->selenium)\n",
            "  Downloading outcome-1.3.0.post0-py2.py3-none-any.whl (10 kB)\n",
            "Requirement already satisfied: sniffio>=1.3.0 in /usr/local/lib/python3.10/dist-packages (from trio~=0.17->selenium) (1.3.1)\n",
            "Requirement already satisfied: exceptiongroup in /usr/local/lib/python3.10/dist-packages (from trio~=0.17->selenium) (1.2.1)\n",
            "Collecting wsproto>=0.14 (from trio-websocket~=0.9->selenium)\n",
            "  Downloading wsproto-1.2.0-py3-none-any.whl (24 kB)\n",
            "Requirement already satisfied: pysocks!=1.5.7,<2.0,>=1.5.6 in /usr/local/lib/python3.10/dist-packages (from urllib3[socks]<3,>=1.26->selenium) (1.7.1)\n",
            "Requirement already satisfied: contourpy>=1.0.1 in /usr/local/lib/python3.10/dist-packages (from matplotlib->stable-baselines3) (1.2.1)\n",
            "Requirement already satisfied: cycler>=0.10 in /usr/local/lib/python3.10/dist-packages (from matplotlib->stable-baselines3) (0.12.1)\n",
            "Requirement already satisfied: fonttools>=4.22.0 in /usr/local/lib/python3.10/dist-packages (from matplotlib->stable-baselines3) (4.53.0)\n",
            "Requirement already satisfied: kiwisolver>=1.0.1 in /usr/local/lib/python3.10/dist-packages (from matplotlib->stable-baselines3) (1.4.5)\n",
            "Requirement already satisfied: pyparsing>=2.3.1 in /usr/local/lib/python3.10/dist-packages (from matplotlib->stable-baselines3) (3.1.2)\n",
            "Requirement already satisfied: python-dateutil>=2.7 in /usr/local/lib/python3.10/dist-packages (from matplotlib->stable-baselines3) (2.8.2)\n",
            "Requirement already satisfied: pytz>=2020.1 in /usr/local/lib/python3.10/dist-packages (from pandas->stable-baselines3) (2023.4)\n",
            "Requirement already satisfied: tzdata>=2022.1 in /usr/local/lib/python3.10/dist-packages (from pandas->stable-baselines3) (2024.1)\n",
            "Requirement already satisfied: six>=1.5 in /usr/local/lib/python3.10/dist-packages (from python-dateutil>=2.7->matplotlib->stable-baselines3) (1.16.0)\n",
            "Collecting h11<1,>=0.9.0 (from wsproto>=0.14->trio-websocket~=0.9->selenium)\n",
            "  Downloading h11-0.14.0-py3-none-any.whl (58 kB)\n",
            "\u001b[2K     \u001b[90m━━━━━━━━━━━━━━━━━━━━━━━━━━━━━━━━━━━━━━━━\u001b[0m \u001b[32m58.3/58.3 kB\u001b[0m \u001b[31m7.1 MB/s\u001b[0m eta \u001b[36m0:00:00\u001b[0m\n",
            "\u001b[?25hRequirement already satisfied: MarkupSafe>=2.0 in /usr/local/lib/python3.10/dist-packages (from jinja2->torch>=1.13->stable-baselines3) (2.1.5)\n",
            "Requirement already satisfied: mpmath<1.4.0,>=1.1.0 in /usr/local/lib/python3.10/dist-packages (from sympy->torch>=1.13->stable-baselines3) (1.3.0)\n",
            "Installing collected packages: pyvirtualdisplay, farama-notifications, outcome, nvidia-nvtx-cu12, nvidia-nvjitlink-cu12, nvidia-nccl-cu12, nvidia-curand-cu12, nvidia-cufft-cu12, nvidia-cuda-runtime-cu12, nvidia-cuda-nvrtc-cu12, nvidia-cuda-cupti-cu12, nvidia-cublas-cu12, h11, gymnasium, wsproto, trio, nvidia-cusparse-cu12, nvidia-cudnn-cu12, trio-websocket, nvidia-cusolver-cu12, selenium, stable-baselines3\n",
            "Successfully installed farama-notifications-0.0.4 gymnasium-0.29.1 h11-0.14.0 nvidia-cublas-cu12-12.1.3.1 nvidia-cuda-cupti-cu12-12.1.105 nvidia-cuda-nvrtc-cu12-12.1.105 nvidia-cuda-runtime-cu12-12.1.105 nvidia-cudnn-cu12-8.9.2.26 nvidia-cufft-cu12-11.0.2.54 nvidia-curand-cu12-10.3.2.106 nvidia-cusolver-cu12-11.4.5.107 nvidia-cusparse-cu12-12.1.0.106 nvidia-nccl-cu12-2.20.5 nvidia-nvjitlink-cu12-12.5.82 nvidia-nvtx-cu12-12.1.105 outcome-1.3.0.post0 pyvirtualdisplay-3.0 selenium-4.22.0 stable-baselines3-2.3.2 trio-0.25.1 trio-websocket-0.11.1 wsproto-1.2.0\n",
            "Reading package lists... Done\n",
            "Building dependency tree... Done\n",
            "Reading state information... Done\n",
            "The following additional packages will be installed:\n",
            "  libfontenc1 libxfont2 libxkbfile1 x11-xkb-utils xfonts-base xfonts-encodings\n",
            "  xfonts-utils xserver-common\n",
            "The following NEW packages will be installed:\n",
            "  libfontenc1 libxfont2 libxkbfile1 x11-xkb-utils xfonts-base xfonts-encodings\n",
            "  xfonts-utils xserver-common xvfb\n",
            "0 upgraded, 9 newly installed, 0 to remove and 45 not upgraded.\n",
            "Need to get 7,813 kB of archives.\n",
            "After this operation, 11.9 MB of additional disk space will be used.\n",
            "Get:1 http://archive.ubuntu.com/ubuntu jammy/main amd64 libfontenc1 amd64 1:1.1.4-1build3 [14.7 kB]\n",
            "Get:2 http://archive.ubuntu.com/ubuntu jammy/main amd64 libxfont2 amd64 1:2.0.5-1build1 [94.5 kB]\n",
            "Get:3 http://archive.ubuntu.com/ubuntu jammy/main amd64 libxkbfile1 amd64 1:1.1.0-1build3 [71.8 kB]\n",
            "Get:4 http://archive.ubuntu.com/ubuntu jammy/main amd64 x11-xkb-utils amd64 7.7+5build4 [172 kB]\n",
            "Get:5 http://archive.ubuntu.com/ubuntu jammy/main amd64 xfonts-encodings all 1:1.0.5-0ubuntu2 [578 kB]\n",
            "Get:6 http://archive.ubuntu.com/ubuntu jammy/main amd64 xfonts-utils amd64 1:7.7+6build2 [94.6 kB]\n",
            "Get:7 http://archive.ubuntu.com/ubuntu jammy/main amd64 xfonts-base all 1:1.0.5 [5,896 kB]\n",
            "Get:8 http://archive.ubuntu.com/ubuntu jammy-updates/main amd64 xserver-common all 2:21.1.4-2ubuntu1.7~22.04.10 [28.5 kB]\n",
            "Get:9 http://archive.ubuntu.com/ubuntu jammy-updates/universe amd64 xvfb amd64 2:21.1.4-2ubuntu1.7~22.04.10 [863 kB]\n",
            "Fetched 7,813 kB in 2s (4,991 kB/s)\n",
            "debconf: unable to initialize frontend: Dialog\n",
            "debconf: (No usable dialog-like program is installed, so the dialog based frontend cannot be used. at /usr/share/perl5/Debconf/FrontEnd/Dialog.pm line 78, <> line 9.)\n",
            "debconf: falling back to frontend: Readline\n",
            "debconf: unable to initialize frontend: Readline\n",
            "debconf: (This frontend requires a controlling tty.)\n",
            "debconf: falling back to frontend: Teletype\n",
            "dpkg-preconfigure: unable to re-open stdin: \n",
            "Selecting previously unselected package libfontenc1:amd64.\n",
            "(Reading database ... 121925 files and directories currently installed.)\n",
            "Preparing to unpack .../0-libfontenc1_1%3a1.1.4-1build3_amd64.deb ...\n",
            "Unpacking libfontenc1:amd64 (1:1.1.4-1build3) ...\n",
            "Selecting previously unselected package libxfont2:amd64.\n",
            "Preparing to unpack .../1-libxfont2_1%3a2.0.5-1build1_amd64.deb ...\n",
            "Unpacking libxfont2:amd64 (1:2.0.5-1build1) ...\n",
            "Selecting previously unselected package libxkbfile1:amd64.\n",
            "Preparing to unpack .../2-libxkbfile1_1%3a1.1.0-1build3_amd64.deb ...\n",
            "Unpacking libxkbfile1:amd64 (1:1.1.0-1build3) ...\n",
            "Selecting previously unselected package x11-xkb-utils.\n",
            "Preparing to unpack .../3-x11-xkb-utils_7.7+5build4_amd64.deb ...\n",
            "Unpacking x11-xkb-utils (7.7+5build4) ...\n",
            "Selecting previously unselected package xfonts-encodings.\n",
            "Preparing to unpack .../4-xfonts-encodings_1%3a1.0.5-0ubuntu2_all.deb ...\n",
            "Unpacking xfonts-encodings (1:1.0.5-0ubuntu2) ...\n",
            "Selecting previously unselected package xfonts-utils.\n",
            "Preparing to unpack .../5-xfonts-utils_1%3a7.7+6build2_amd64.deb ...\n",
            "Unpacking xfonts-utils (1:7.7+6build2) ...\n",
            "Selecting previously unselected package xfonts-base.\n",
            "Preparing to unpack .../6-xfonts-base_1%3a1.0.5_all.deb ...\n",
            "Unpacking xfonts-base (1:1.0.5) ...\n",
            "Selecting previously unselected package xserver-common.\n",
            "Preparing to unpack .../7-xserver-common_2%3a21.1.4-2ubuntu1.7~22.04.10_all.deb ...\n",
            "Unpacking xserver-common (2:21.1.4-2ubuntu1.7~22.04.10) ...\n",
            "Selecting previously unselected package xvfb.\n",
            "Preparing to unpack .../8-xvfb_2%3a21.1.4-2ubuntu1.7~22.04.10_amd64.deb ...\n",
            "Unpacking xvfb (2:21.1.4-2ubuntu1.7~22.04.10) ...\n",
            "Setting up libfontenc1:amd64 (1:1.1.4-1build3) ...\n",
            "Setting up xfonts-encodings (1:1.0.5-0ubuntu2) ...\n",
            "Setting up libxkbfile1:amd64 (1:1.1.0-1build3) ...\n",
            "Setting up libxfont2:amd64 (1:2.0.5-1build1) ...\n",
            "Setting up x11-xkb-utils (7.7+5build4) ...\n",
            "Setting up xfonts-utils (1:7.7+6build2) ...\n",
            "Setting up xfonts-base (1:1.0.5) ...\n",
            "Setting up xserver-common (2:21.1.4-2ubuntu1.7~22.04.10) ...\n",
            "Setting up xvfb (2:21.1.4-2ubuntu1.7~22.04.10) ...\n",
            "Processing triggers for man-db (2.10.2-1) ...\n",
            "Processing triggers for fontconfig (2.13.1-4.2ubuntu5) ...\n",
            "Processing triggers for libc-bin (2.35-0ubuntu3.4) ...\n",
            "/sbin/ldconfig.real: /usr/local/lib/libtbbmalloc.so.2 is not a symbolic link\n",
            "\n",
            "/sbin/ldconfig.real: /usr/local/lib/libtbb.so.12 is not a symbolic link\n",
            "\n",
            "/sbin/ldconfig.real: /usr/local/lib/libtbbmalloc_proxy.so.2 is not a symbolic link\n",
            "\n",
            "/sbin/ldconfig.real: /usr/local/lib/libtbbbind.so.3 is not a symbolic link\n",
            "\n",
            "/sbin/ldconfig.real: /usr/local/lib/libtbbbind_2_5.so.3 is not a symbolic link\n",
            "\n",
            "/sbin/ldconfig.real: /usr/local/lib/libtbbbind_2_0.so.3 is not a symbolic link\n",
            "\n"
          ]
        }
      ],
      "source": [
        "!pip install selenium pyvirtualdisplay gymnasium scikit-image stable-baselines3\n",
        "!sudo apt-get install xvfb\n",
        "\n",
        "# i thought i needed these for chromedriver, guess not lol\n",
        "# !apt-get install -y chromium-chromedriver\n",
        "# !cp /usr/lib/chromium-browser/chromedriver /usr/bin"
      ]
    },
    {
      "cell_type": "markdown",
      "source": [
        "## **Environment**\n",
        "Here, I'm going to make an OpenAI Gymnasium environment for the agent to interact with."
      ],
      "metadata": {
        "id": "NVTsVOq08DEs"
      }
    },
    {
      "cell_type": "markdown",
      "source": [
        "### imports"
      ],
      "metadata": {
        "id": "jprZ3GWIDa29"
      }
    },
    {
      "cell_type": "code",
      "source": [
        "import gymnasium as gym\n",
        "\n",
        "from selenium import webdriver\n",
        "from selenium.webdriver.chrome.options import Options\n",
        "from selenium.webdriver.common.by import By\n",
        "from selenium.webdriver.common.keys import Keys\n",
        "from selenium.webdriver.common.action_chains import ActionChains\n",
        "\n",
        "chrome_options = Options()\n",
        "chrome_options.add_argument(\"--no-sandbox\")\n",
        "chrome_options.add_argument(\"--disable-dev-shm-usage\")\n",
        "chrome_options.add_argument(\"--disable-infobars\")\n",
        "chrome_options.add_argument(\"--disable-notifications\")\n",
        "chrome_options.add_argument(\"--mute-audio\")\n",
        "chrome_options.add_argument(\"--start-maximized\")\n",
        "chrome_options.add_argument(\"--no-default-browser-check\")\n",
        "chrome_options.add_argument(\"--no-first-run\")\n",
        "chrome_options.add_argument(\"--bwsi\")\n",
        "chrome_options.add_argument(\"--force-dark-mode\")\n",
        "\n",
        "from pyvirtualdisplay import Display\n",
        "from pyvirtualdisplay.smartdisplay import SmartDisplay\n",
        "\n",
        "import cv2\n",
        "import numpy as np\n",
        "import time\n",
        "\n",
        "from PIL.ImageGrab import grab\n",
        "\n",
        "from matplotlib import pyplot as plt\n",
        "\n",
        "from skimage.metrics import structural_similarity as ssim"
      ],
      "metadata": {
        "id": "k1weK7zZznZG"
      },
      "execution_count": 2,
      "outputs": []
    },
    {
      "cell_type": "markdown",
      "source": [
        "### env class"
      ],
      "metadata": {
        "id": "35hzNvFiDfvm"
      }
    },
    {
      "cell_type": "code",
      "source": [
        "class DinoEnv(gym.Env):\n",
        "\n",
        "  def __init__(self):\n",
        "    super().__init__()\n",
        "    self.metadata = {\n",
        "        'render.modes': [None, 'rgb_array']\n",
        "    }\n",
        "    self.render_mode = 'rgb_array'\n",
        "    self.resize_len = 140\n",
        "    self.resize_width = 490\n",
        "\n",
        "    self.action_space = gym.spaces.Discrete(3)   # jump, duck, no operation\n",
        "    self.observation_space = gym.spaces.Box(\n",
        "        low=0,\n",
        "        high=255,\n",
        "        shape=(1, self.resize_len, self.resize_width),\n",
        "        dtype=np.uint8\n",
        "    )\n",
        "\n",
        "    # bounding box\n",
        "    #          left, top, right, bottom\n",
        "    self.gamebox = (20, 200, 720, 390)\n",
        "    self.donebox = (270, 250, 390, 275)\n",
        "    self.doneimg = None\n",
        "\n",
        "    self.disp = SmartDisplay(visible=False, size=(800, 800))\n",
        "    self.disp.start()\n",
        "    self.driver = webdriver.Chrome(options=chrome_options)\n",
        "    self.driver.set_network_conditions(\n",
        "        offline=True,\n",
        "        latency=0,\n",
        "        download_throughput=0,\n",
        "        upload_throughput=0\n",
        "    )\n",
        "    try:\n",
        "      self.driver.get('chrome://dino')\n",
        "    except:\n",
        "      pass\n",
        "    self.body = self.driver.find_element(By.CSS_SELECTOR, 'body')\n",
        "\n",
        "    print(\"running first time...\")\n",
        "    self._jump()\n",
        "    self._noop()\n",
        "    time.sleep(6)\n",
        "    dummy = self._get_done()\n",
        "    print(\"finished init\")\n",
        "\n",
        "\n",
        "  def step(self, action):\n",
        "    if action == 0:\n",
        "      self._noop()\n",
        "    elif action == 1:\n",
        "      self._jump()\n",
        "    elif action == 2:\n",
        "      self._down()\n",
        "\n",
        "    next_observation = self._get_observation()\n",
        "\n",
        "    is_done = bool(self._get_done())\n",
        "\n",
        "    truncated = False\n",
        "    reward = -10 if is_done else 1\n",
        "    info = {}\n",
        "\n",
        "    return next_observation, reward, is_done, truncated, info\n",
        "\n",
        "  def reset(self, seed = None, options = None):\n",
        "    time.sleep(0.5)\n",
        "    self._jump()\n",
        "    self._noop()\n",
        "    time.sleep(0.05)\n",
        "    first_observation = self._get_observation()\n",
        "    info = {}\n",
        "    return first_observation, info\n",
        "\n",
        "  def render(self):\n",
        "    if self.render_mode == 'rgb_array':\n",
        "      img = np.array(grab(xdisplay=self.disp.new_display_var, bbox=self.gamebox))\n",
        "      return img\n",
        "\n",
        "  def close(self):\n",
        "    if self.driver is not None:\n",
        "      self.driver.quit()\n",
        "      self.driver = None\n",
        "      print(\"driver quit\")\n",
        "    else:\n",
        "      print(\"driver already quit\")\n",
        "    if self.disp is not None:\n",
        "      self.disp.stop()\n",
        "      self.disp = None\n",
        "      print(\"display quit\")\n",
        "    else:\n",
        "      print(\"display already quit\")\n",
        "\n",
        "  def curr_score(self):\n",
        "    score = self.driver.execute_script(\"return Runner.instance_.distanceRan * Runner.instance_.distanceMeter.config.COEFFICIENT\")\n",
        "    return int(round(score))\n",
        "\n",
        "  def curr_high_score(self):\n",
        "    high_score = self.driver.execute_script(\"return Runner.instance_.highestScore * Runner.instance_.distanceMeter.config.COEFFICIENT\")\n",
        "    return int(round(high_score))\n",
        "\n",
        "  def _get_observation(self):\n",
        "    img = np.array(grab(xdisplay=self.disp.new_display_var, bbox=self.gamebox))\n",
        "    grayscale = cv2.cvtColor(img, cv2.COLOR_RGB2GRAY)\n",
        "    blurred = cv2.GaussianBlur(grayscale, (5, 5), 0)\n",
        "    edges = cv2.Canny(blurred, 50, 150)\n",
        "    resized = cv2.resize(edges, (self.resize_width, self.resize_len))\n",
        "    expanded = np.expand_dims(resized, axis=0)\n",
        "    return expanded\n",
        "\n",
        "  def _get_done(self) -> bool:\n",
        "    img = np.array(grab(xdisplay=self.disp.new_display_var, bbox=self.donebox))\n",
        "    grayscale = cv2.cvtColor(img, cv2.COLOR_RGB2GRAY)\n",
        "    filtered = cv2.bilateralFilter(grayscale, 9, 75, 75)\n",
        "    post_done_img = filtered\n",
        "\n",
        "    if self.doneimg is None:\n",
        "      self.doneimg = post_done_img\n",
        "      return False\n",
        "\n",
        "    score = ssim(post_done_img, self.doneimg)\n",
        "    return score > 0.9\n",
        "\n",
        "  def _send_key_event(self, event_type, key):\n",
        "    # event_type must be keyUp or keyDown\n",
        "    code = {'space': 32, 'down': 40}.get(key, 0)\n",
        "    self.driver.execute_cdp_cmd('Input.dispatchKeyEvent', {\n",
        "        'type': event_type,\n",
        "        'windowsVirtualKeyCode': code,\n",
        "        'nativeVirtualKeyCode': code,\n",
        "        'text': \"\"\n",
        "    })\n",
        "\n",
        "  def _jump(self):\n",
        "    self._send_key_event('keyUp', 'down')\n",
        "    self._send_key_event('keyDown', 'space')\n",
        "\n",
        "  def _down(self):\n",
        "    self._send_key_event('keyUp', 'space')\n",
        "    self._send_key_event('keyDown', 'down')\n",
        "\n",
        "  def _noop(self):\n",
        "    self._send_key_event('keyUp', 'space')\n",
        "    self._send_key_event('keyUp', 'down')\n",
        "\n",
        "  def _test_action(self):\n",
        "    start_time = time.time()\n",
        "    self._jump()\n",
        "    self._noop()\n",
        "    end_time = time.time()\n",
        "    print(\"time taken:\", end_time - start_time)\n"
      ],
      "metadata": {
        "id": "ofXYq0CJ8GfM",
        "colab": {
          "base_uri": "https://localhost:8080/"
        },
        "outputId": "cc4bfbfa-8e61-4894-d51d-87bd67c74c8e"
      },
      "execution_count": 15,
      "outputs": [
        {
          "output_type": "stream",
          "name": "stderr",
          "text": [
            "/usr/local/lib/python3.10/dist-packages/ipykernel/ipkernel.py:283: DeprecationWarning: `should_run_async` will not call `transform_cell` automatically in the future. Please pass the result to `transformed_cell` argument and any exception that happen during thetransform in `preprocessing_exc_tuple` in IPython 7.17 and above.\n",
            "  and should_run_async(code)\n"
          ]
        }
      ]
    },
    {
      "cell_type": "markdown",
      "source": [
        "## **Agent**\n",
        "Here is the DQN Agent that will learn to play the game"
      ],
      "metadata": {
        "id": "m09Ne-O46w4B"
      }
    },
    {
      "cell_type": "markdown",
      "source": [
        "Import some things and test the environment"
      ],
      "metadata": {
        "id": "YOu_HdUOLobo"
      }
    },
    {
      "cell_type": "code",
      "source": [
        "import os\n",
        "from stable_baselines3.common.callbacks import BaseCallback\n",
        "from stable_baselines3.common import env_checker\n",
        "from stable_baselines3 import DQN"
      ],
      "metadata": {
        "id": "jVwCpuJuBg_D"
      },
      "execution_count": 4,
      "outputs": []
    },
    {
      "cell_type": "code",
      "source": [
        "# test env from stable baselines 3\n",
        "env = DinoEnv()\n",
        "env_checker.check_env(env)"
      ],
      "metadata": {
        "colab": {
          "base_uri": "https://localhost:8080/"
        },
        "id": "tU0JOocBBvJp",
        "outputId": "b0f373d4-6796-4367-dd5f-e3cf99cb0962"
      },
      "execution_count": 16,
      "outputs": [
        {
          "output_type": "stream",
          "name": "stdout",
          "text": [
            "running first time...\n",
            "finished init\n"
          ]
        }
      ]
    },
    {
      "cell_type": "markdown",
      "source": [
        "I'm going to write a callback function to periodically log and save the model"
      ],
      "metadata": {
        "id": "DnTkmmaoBPh3"
      }
    },
    {
      "cell_type": "code",
      "source": [
        "# write callback function here\n",
        "class CustomCallback(BaseCallback):\n",
        "  def _init_callback(self):\n",
        "    pass\n",
        "\n",
        "  def _on_step(self):\n",
        "    pass"
      ],
      "metadata": {
        "id": "FX1ek7wf63WU"
      },
      "execution_count": null,
      "outputs": []
    },
    {
      "cell_type": "code",
      "source": [
        "callback = CustomCallback()"
      ],
      "metadata": {
        "id": "ehR1VHgsBTIl"
      },
      "execution_count": null,
      "outputs": []
    },
    {
      "cell_type": "markdown",
      "source": [
        "Here's where the magic will happen"
      ],
      "metadata": {
        "id": "TAOqPQlmCe7T"
      }
    },
    {
      "cell_type": "code",
      "source": [
        "model = DQN('CnnPolicy', callback=callback)"
      ],
      "metadata": {
        "id": "iQCCCl9nChyb"
      },
      "execution_count": null,
      "outputs": []
    },
    {
      "cell_type": "code",
      "source": [
        "model.learn()"
      ],
      "metadata": {
        "id": "E8Q9Nu7LC3J1"
      },
      "execution_count": null,
      "outputs": []
    },
    {
      "cell_type": "markdown",
      "source": [
        "## **Test Trained Model**"
      ],
      "metadata": {
        "id": "-5UJvyGAC7F5"
      }
    },
    {
      "cell_type": "code",
      "source": [
        "num_runs = 1\n",
        "for run in range(num_runs):\n",
        "  obs, _ = env.reset()\n",
        "  done = False\n",
        "  avg_time = 0\n",
        "  timesteps = 0\n",
        "\n",
        "  while not done:\n",
        "    start_time = time.time()\n",
        "    # action = env.action_space.sample()  random action\n",
        "    action, _ = model.predict(obs)\n",
        "    observation, reward, done, truncated, info = env.step(action)\n",
        "    end_time = time.time()\n",
        "    avg_time += end_time - start_time\n",
        "    timesteps += 1\n",
        "\n",
        "  print(\"Score:\", env.curr_score())\n",
        "  print(\"High Score:\", env.curr_high_score())\n",
        "  print(\"second per frame:\", avg_time / timesteps)\n",
        "  print(\"fps:\", timesteps / avg_time)"
      ],
      "metadata": {
        "id": "miNKKeE8C-lx"
      },
      "execution_count": null,
      "outputs": []
    },
    {
      "cell_type": "code",
      "source": [
        "env.close()"
      ],
      "metadata": {
        "id": "UYkDbHehD39n"
      },
      "execution_count": null,
      "outputs": []
    }
  ]
}